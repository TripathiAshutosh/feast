{
 "cells": [
  {
   "cell_type": "markdown",
   "id": "1e3fbf3b",
   "metadata": {},
   "source": [
    "### 1. Prepare data set and store in parquet format"
   ]
  },
  {
   "cell_type": "markdown",
   "id": "4ee441fc",
   "metadata": {},
   "source": [
    "### 2. Do feast init"
   ]
  },
  {
   "cell_type": "markdown",
   "id": "8e0b586a",
   "metadata": {},
   "source": [
    "### 3. Update feature store yaml file if needed"
   ]
  },
  {
   "cell_type": "markdown",
   "id": "587073cf",
   "metadata": {},
   "source": [
    "### 4. Define Feature definitions in a python file inside feature repo directory (created using feast init)\n",
    "This step is known as register and deploy the features"
   ]
  },
  {
   "cell_type": "markdown",
   "id": "8fceb1f4",
   "metadata": {},
   "source": [
    "### 5. Do feast apply"
   ]
  },
  {
   "cell_type": "markdown",
   "id": "abf73fa0",
   "metadata": {},
   "source": [
    "### 6. Generate Training Data Set"
   ]
  },
  {
   "cell_type": "markdown",
   "id": "3df637b5",
   "metadata": {},
   "source": [
    "### 7. Model Training"
   ]
  },
  {
   "cell_type": "markdown",
   "id": "13e48a26",
   "metadata": {},
   "source": [
    "### 8. Prepare online feature store\n",
    "(Loading the features to online store)\n",
    "\n",
    "There are two ways you can use to load features to your online store \n",
    "- materialize\n",
    "\n",
    "materialize loads the latest features between two dates.\n",
    "\n",
    "`feast materialize 2020–01–01T00:00:00 2022–01–01T00:00:00`\n",
    "\n",
    "- materialize-incremental\n",
    "\n",
    "materialize-incremental loads features up to the provided end date:\n",
    "\n",
    "`feast materialize-incremental 2022–01–01T00:00:00`"
   ]
  },
  {
   "cell_type": "markdown",
   "id": "2c91aad6",
   "metadata": {},
   "source": [
    "### 9. Get online features for prediction"
   ]
  },
  {
   "cell_type": "markdown",
   "id": "82ad0b65",
   "metadata": {},
   "source": [
    "### 10. Call the predict function and see the output"
   ]
  },
  {
   "cell_type": "code",
   "execution_count": null,
   "id": "d1a6d370",
   "metadata": {},
   "outputs": [],
   "source": []
  },
  {
   "cell_type": "code",
   "execution_count": null,
   "id": "fe34f137",
   "metadata": {},
   "outputs": [],
   "source": []
  },
  {
   "cell_type": "code",
   "execution_count": null,
   "id": "1714a54e",
   "metadata": {},
   "outputs": [],
   "source": []
  },
  {
   "cell_type": "code",
   "execution_count": null,
   "id": "5796b5e0",
   "metadata": {},
   "outputs": [],
   "source": []
  },
  {
   "cell_type": "code",
   "execution_count": null,
   "id": "7a1fc074",
   "metadata": {},
   "outputs": [],
   "source": []
  },
  {
   "cell_type": "markdown",
   "id": "18e62f34",
   "metadata": {},
   "source": [
    "### References:"
   ]
  },
  {
   "cell_type": "markdown",
   "id": "a923b96b",
   "metadata": {},
   "source": [
    "https://docs.feast.dev/getting-started/quickstart"
   ]
  },
  {
   "cell_type": "code",
   "execution_count": null,
   "id": "46383c97",
   "metadata": {},
   "outputs": [],
   "source": []
  }
 ],
 "metadata": {
  "kernelspec": {
   "display_name": "mlops",
   "language": "python",
   "name": "mlops"
  },
  "language_info": {
   "codemirror_mode": {
    "name": "ipython",
    "version": 3
   },
   "file_extension": ".py",
   "mimetype": "text/x-python",
   "name": "python",
   "nbconvert_exporter": "python",
   "pygments_lexer": "ipython3",
   "version": "3.9.12"
  }
 },
 "nbformat": 4,
 "nbformat_minor": 5
}
